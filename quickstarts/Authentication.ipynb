{
  "cells": [
    {
      "cell_type": "markdown",
      "metadata": {
        "id": "Tce3stUlHN0L"
      },
      "source": [
        "##### Copyright 2025 Google LLC."
      ]
    },
    {
      "cell_type": "code",
      "execution_count": null,
      "metadata": {
        "cellView": "form",
        "id": "tuOe1ymfHZPu"
      },
      "outputs": [],
      "source": [
        "# @title Licensed under the Apache License, Version 2.0 (the \"License\");\n",
        "# you may not use this file except in compliance with the License.\n",
        "# You may obtain a copy of the License at\n",
        "#\n",
        "# https://www.apache.org/licenses/LICENSE-2.0\n",
        "#\n",
        "# Unless required by applicable law or agreed to in writing, software\n",
        "# distributed under the License is distributed on an \"AS IS\" BASIS,\n",
        "# WITHOUT WARRANTIES OR CONDITIONS OF ANY KIND, either express or implied.\n",
        "# See the License for the specific language governing permissions and\n",
        "# limitations under the License."
      ]
    },
    {
      "cell_type": "markdown",
      "metadata": {
        "id": "yeadDkMiISin"
      },
      "source": [
        "# Gemini API: Authentication Quickstart"
      ]
    },
    {
      "cell_type": "markdown",
      "metadata": {
        "id": "lEXQ3OwKIa-O"
      },
      "source": [
        "<a target=\"_blank\" href=\"https://colab.research.google.com/github/google-gemini/cookbook/blob/main/quickstarts/Authentication.ipynb\"><img src=\"https://colab.research.google.com/assets/colab-badge.svg\" height=30/></a>"
      ]
    },
    {
      "cell_type": "markdown",
      "metadata": {
        "id": "df1767a3d1cc"
      },
      "source": [
        "The Gemini API uses API keys for authentication. This notebook walks you through creating an API key, and using it with the Python SDK or a command-line tool like `curl`."
      ]
    },
    {
      "cell_type": "markdown",
      "metadata": {
        "id": "mhFKmRmxi5B-"
      },
      "source": [
        "## Create an API key\n",
        "\n",
        "You can [create](https://aistudio.google.com/app/apikey) your API key using Google AI Studio with a single click.  \n",
        "\n",
        "Remember to treat your API key like a password. Don't accidentally save it in a notebook or source file you later commit to GitHub. This notebook shows you two ways you can securely store your API key.\n",
        "\n",
        "* If you're using Google Colab, it's recommended to store your key in Colab Secrets.\n",
        "\n",
        "* If you're using a different development environment (or calling the Gemini API through `cURL` in your terminal), it's recommended to store your key in an [environment variable](https://en.wikipedia.org/wiki/Environment_variable).\n",
        "\n",
        "Let's start with Colab Secrets."
      ]
    },
    {
      "cell_type": "markdown",
      "metadata": {
        "id": "dEoigYI9Jw_K"
      },
      "source": [
        "## Add your key to Colab Secrets\n",
        "\n",
        "Add your API key to the Colab Secrets manager to securely store it.\n",
        "\n",
        "1. Open your Google Colab notebook and click on the 🔑 **Secrets** tab in the left panel.\n",
        "   \n",
        "   <img src=\"https://storage.googleapis.com/generativeai-downloads/images/secrets.jpg\" alt=\"You can find the Secrets tab on the left panel.\" width=50%>\n",
        "\n",
        "2. Create a new secret with the name `GOOGLE_API_KEY`.\n",
        "3. Copy and paste your API key into the `Value` input box of `GOOGLE_API_KEY`.\n",
        "4. Toggle the button on the left to allow all notebooks access to the secret.\n"
      ]
    },
    {
      "cell_type": "markdown",
      "metadata": {
        "id": "jRY1eioF4gUB"
      },
      "source": [
        "## Install the Python SDK"
      ]
    },
    {
      "cell_type": "code",
      "execution_count": 1,
      "metadata": {
        "id": "xuiLSV7amy3P",
        "outputId": "0f60c531-5ea2-4f73-ab53-b2185aee787f",
        "colab": {
          "base_uri": "https://localhost:8080/"
        }
      },
      "outputs": [
        {
          "output_type": "stream",
          "name": "stdout",
          "text": [
            "\u001b[?25l   \u001b[90m━━━━━━━━━━━━━━━━━━━━━━━━━━━━━━━━━━━━━━━━\u001b[0m \u001b[32m0.0/206.4 kB\u001b[0m \u001b[31m?\u001b[0m eta \u001b[36m-:--:--\u001b[0m\r\u001b[2K   \u001b[90m━━━━━━━━━━━━━━━━━━━━━━━━━━━━━━━━━━━━━━━━\u001b[0m \u001b[32m206.4/206.4 kB\u001b[0m \u001b[31m11.5 MB/s\u001b[0m eta \u001b[36m0:00:00\u001b[0m\n",
            "\u001b[?25h"
          ]
        }
      ],
      "source": [
        "%pip install -qU 'google-genai>=1.0.0'"
      ]
    },
    {
      "cell_type": "markdown",
      "metadata": {
        "id": "3dw8ygh74mVc"
      },
      "source": [
        "## Configure the SDK with your API key\n",
        "\n",
        "You create a client using your API key, but instead of pasting your key into the notebook, you'll read it from Colab Secrets thanks to `userdata`."
      ]
    },
    {
      "cell_type": "code",
      "execution_count": 2,
      "metadata": {
        "id": "DTl-qZp34sht"
      },
      "outputs": [],
      "source": [
        "from google import genai\n",
        "from google.colab import userdata\n",
        "\n",
        "GOOGLE_API_KEY = userdata.get('GOOGLE_API_KEY')\n",
        "client = genai.Client(api_key=GOOGLE_API_KEY)"
      ]
    },
    {
      "cell_type": "markdown",
      "metadata": {
        "id": "b7ceb7517bf5"
      },
      "source": [
        "Now choose a model. The Gemini API offers different models that are optimized for specific use cases. For more information check [Gemini models](https://ai.google.dev/gemini-api/docs/models)"
      ]
    },
    {
      "cell_type": "code",
      "execution_count": 3,
      "metadata": {
        "id": "7135d9ae3e4b"
      },
      "outputs": [],
      "source": [
        "MODEL_ID = \"gemini-2.5-flash-lite-preview-06-17\" # @param [\"gemini-2.5-flash-lite-preview-06-17\",\"gemini-2.0-flash\",\"gemini-2.5-flash\",\"gemini-2.5-pro\"] {\"allow-input\":true, isTemplate: true}"
      ]
    },
    {
      "cell_type": "markdown",
      "metadata": {
        "id": "tr7oAO6-nMsE"
      },
      "source": [
        "And that's it! Now you're ready to call the Gemini API."
      ]
    },
    {
      "cell_type": "code",
      "execution_count": 4,
      "metadata": {
        "id": "n6sXnWrJoKoo",
        "outputId": "2b34b3c5-9497-4a8d-8224-067ca3471c26",
        "colab": {
          "base_uri": "https://localhost:8080/",
          "height": 1000
        }
      },
      "outputs": [
        {
          "output_type": "display_data",
          "data": {
            "text/plain": [
              "<IPython.core.display.Markdown object>"
            ],
            "text/markdown": "Python provides very efficient and convenient ways to sort lists using built-in functions. You generally don't need to implement sorting algorithms from scratch unless it's for learning purposes.\n\nHere are the primary ways to sort a list in Python:\n\n---\n\n### 1. Using `list.sort()` (Modifies the Original List)\n\nThe `sort()` method is a method of the `list` object itself. It sorts the list **in-place**, meaning it modifies the original list and does not return a new one.\n\n```python\nmy_list = [3, 1, 4, 1, 5, 9, 2, 6]\n\nprint(\"Original list:\", my_list)\n\n# Sort the list in ascending order (default)\nmy_list.sort()\n\nprint(\"Sorted list (in-place):\", my_list)\n\n# Example with different data types (mixed types will cause errors unless a key is provided)\n# For simplicity, stick to numbers or strings\nwords = [\"banana\", \"apple\", \"cherry\", \"date\"]\nwords.sort()\nprint(\"Sorted words:\", words)\n```\n\n**Output:**\n\n```\nOriginal list: [3, 1, 4, 1, 5, 9, 2, 6]\nSorted list (in-place): [1, 1, 2, 3, 4, 5, 6, 9]\nSorted words: ['apple', 'banana', 'cherry', 'date']\n```\n\n---\n\n### 2. Using `sorted()` (Returns a New Sorted List)\n\nThe `sorted()` built-in function takes an iterable (like a list, tuple, string, etc.) as an argument and returns a **new sorted list**. The original iterable remains unchanged. This is often preferred when you need to preserve the original list.\n\n```python\nmy_list = [3, 1, 4, 1, 5, 9, 2, 6]\n\nprint(\"Original list:\", my_list)\n\n# Get a new sorted list\nnew_sorted_list = sorted(my_list)\n\nprint(\"Original list (unchanged):\", my_list)\nprint(\"New sorted list:\", new_sorted_list)\n\n# You can also sort other iterables\nmy_tuple = (5, 2, 8, 1)\nsorted_tuple_as_list = sorted(my_tuple)\nprint(\"Sorted tuple as list:\", sorted_tuple_as_list) # Note: it's always a list\n```\n\n**Output:**\n\n```\nOriginal list: [3, 1, 4, 1, 5, 9, 2, 6]\nOriginal list (unchanged): [3, 1, 4, 1, 5, 9, 2, 6]\nNew sorted list: [1, 1, 2, 3, 4, 5, 6, 9]\nSorted tuple as list: [1, 2, 5, 8]\n```\n\n---\n\n### Common Parameters for Both `sort()` and `sorted()`:\n\nBoth methods accept optional arguments to customize the sorting behavior:\n\n1.  **`reverse=True`**: Sorts the list in descending order.\n\n    ```python\n    my_list = [3, 1, 4, 1, 5, 9, 2, 6]\n\n    # Using sort()\n    my_list.sort(reverse=True)\n    print(\"Sorted descending (in-place):\", my_list) # Output: [9, 6, 5, 4, 3, 2, 1, 1]\n\n    # Using sorted()\n    new_list_desc = sorted([3, 1, 4, 1, 5, 9, 2, 6], reverse=True)\n    print(\"New sorted descending list:\", new_list_desc) # Output: [9, 6, 5, 4, 3, 2, 1, 1]\n    ```\n\n2.  **`key=func`**: Specifies a function of one argument that is used to extract a comparison key from each list element. For example, you can sort a list of strings by their length, or a list of dictionaries by a specific key.\n\n    ```python\n    words = [\"banana\", \"apple\", \"cherry\", \"date\", \"fig\"]\n\n    # Sort by the length of the string\n    words.sort(key=len)\n    print(\"Sorted by length:\", words) # Output: ['fig', 'date', 'apple', 'banana', 'cherry']\n\n    # Sort a list of tuples by the second element\n    items = [('apple', 10), ('banana', 5), ('cherry', 20), ('date', 15)]\n    items.sort(key=lambda item: item[1]) # Use a lambda function to get the second element\n    print(\"Sorted by second element:\", items) # Output: [('banana', 5), ('apple', 10), ('date', 15), ('cherry', 20)]\n\n    # Sort a list of dictionaries by a specific key\n    people = [\n        {\"name\": \"Alice\", \"age\": 30},\n        {\"name\": \"Bob\", \"age\": 25},\n        {\"name\": \"Charlie\", \"age\": 35}\n    ]\n    people.sort(key=lambda person: person[\"age\"])\n    print(\"Sorted by age:\", people) # Output: [{'name': 'Bob', 'age': 25}, {'name': 'Alice', 'age': 30}, {'name': 'Charlie', 'age': 35}]\n    ```\n\n---\n\n### When to Use Which:\n\n*   **`list.sort()`**: Use this if you don't need the original list anymore and want to save memory by modifying it in-place. It's slightly more efficient as it doesn't create a new list object.\n*   **`sorted()`**: Use this if you need to keep the original list intact or if you're sorting an iterable that isn't a list (like a tuple, set, or string).\n\n---\n\n### Manual Implementation (For Learning - Not Recommended for Production)\n\nWhile Python's built-in sort is highly optimized (using an algorithm called Timsort), here's a simple example of a **Bubble Sort** algorithm for educational purposes. You should almost never use this in real-world applications due to its inefficiency for large lists.\n\n```python\ndef bubble_sort(arr):\n    n = len(arr)\n    # Traverse through all array elements\n    for i in range(n - 1):\n        # Last i elements are already in place\n        for j in range(0, n - i - 1):\n            # Traverse the array from 0 to n-i-1\n            # Swap if the element found is greater than the next element\n            if arr[j] > arr[j + 1]:\n                arr[j], arr[j + 1] = arr[j + 1], arr[j] # Swap elements\n\n    return arr\n\nmy_list_manual = [64, 34, 25, 12, 22, 11, 90]\nprint(\"Original list for manual sort:\", my_list_manual)\nsorted_list_manual = bubble_sort(my_list_manual)\nprint(\"Manually sorted list (Bubble Sort):\", sorted_list_manual)\n```\n\n**Output:**\n\n```\nOriginal list for manual sort: [64, 34, 25, 12, 22, 11, 90]\nManually sorted list (Bubble Sort): [11, 12, 22, 25, 34, 64, 90]\n```\n\n---\n\n**In summary, for most practical purposes, always use `list.sort()` or `sorted()` for sorting lists in Python.** They are highly optimized and cover almost every sorting need."
          },
          "metadata": {}
        }
      ],
      "source": [
        "from IPython.display import Markdown\n",
        "\n",
        "response = client.models.generate_content(\n",
        "    model=MODEL_ID,\n",
        "    contents=\"Please give me python code to sort a list.\"\n",
        ")\n",
        "\n",
        "display(Markdown(response.text))"
      ]
    },
    {
      "cell_type": "markdown",
      "metadata": {
        "id": "BTdQtZri1Brs"
      },
      "source": [
        "## Store your key in an environment variable"
      ]
    },
    {
      "cell_type": "markdown",
      "metadata": {
        "id": "gZDX51Y27pN4"
      },
      "source": [
        "If you're using a different development environment (or calling the Gemini API through `cURL` in your terminal), it's recommended to store your key in an environment variable.\n",
        "\n",
        "To store your key in an environment variable, open your terminal and run:\n",
        "\n",
        "```export GOOGLE_API_KEY=\"YOUR_API_KEY\"```\n",
        "\n",
        "If you're using Python, you can add these two lines to your notebook to read the key:\n",
        "\n",
        "```\n",
        "import os\n",
        "client = genai.Client(api_key=os.environ['GOOGLE_API_KEY'])\n",
        "```\n",
        "\n",
        "Alternatively, if it isn't provided explicitly, the client will look for the API key.\n",
        "\n",
        "```\n",
        "client = genai.Client()\n",
        "```\n",
        "\n",
        "Or, if you're calling the API through your terminal using `cURL`, you can copy and paste this code to read your key from the environment variable.\n",
        "\n",
        "```\n",
        "curl \"https://generativelanguage.googleapis.com/v1beta/models/gemini-2.0-flash:generateContent?key=$GOOGLE_API_KEY\" \\\n",
        "    -H 'Content-Type: application/json' \\\n",
        "    -X POST \\\n",
        "    -d '{\n",
        "      \"contents\": [{\n",
        "        \"parts\":[{\n",
        "          \"text\": \"Please give me Python code to sort a list.\"\n",
        "        }]\n",
        "      }]\n",
        "    }'\n",
        "```\n"
      ]
    },
    {
      "cell_type": "markdown",
      "metadata": {
        "id": "CAOKOcax1xZY"
      },
      "source": [
        "## Learning more\n",
        "\n",
        "Now that you know how to manage your API key, you've everything to [get started](./Get_started.ipynb) with Gemini. Check all the [quickstart guides](https://github.com/google-gemini/cookbook/tree/main/quickstarts) from the Cookbook, and in particular the [Get started](./Get_started.ipynb) one."
      ]
    }
  ],
  "metadata": {
    "colab": {
      "name": "Authentication.ipynb",
      "toc_visible": true,
      "provenance": []
    },
    "google": {
      "image_path": "/site-assets/images/share.png",
      "keywords": [
        "examples",
        "googleai",
        "samplecode",
        "python",
        "embed",
        "function"
      ]
    },
    "kernelspec": {
      "display_name": "Python 3",
      "name": "python3"
    }
  },
  "nbformat": 4,
  "nbformat_minor": 0
}